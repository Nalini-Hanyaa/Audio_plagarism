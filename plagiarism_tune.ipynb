{
 "cells": [
  {
   "cell_type": "code",
   "execution_count": null,
   "metadata": {},
   "outputs": [],
   "source": [
    "import librosa\n",
    "\n",
    "def extract_key(audio_path):\n",
    "    # For simplicity, we'll return the key as 'C' for all songs\n",
    "    return 'C'\n",
    "\n",
    "def extract_tempo(audio_path):\n",
    "    # Load audio file and extract tempo\n",
    "    y, sr = librosa.load(audio_path)\n",
    "    tempo, _ = librosa.beat.beat_track(y=y, sr=sr)\n",
    "    return tempo\n",
    "\n",
    "def compare_keys(key1, key2):\n",
    "    # Compare the keys of the songs\n",
    "    return key1 == key2\n",
    "\n",
    "def compare_tempos(tempo1, tempo2, threshold=5):\n",
    "    # Compare the tempos of the songs within a threshold\n",
    "    return abs(tempo1 - tempo2) <= threshold\n",
    "\n",
    "def match_tune(audio_path1, audio_path2):\n",
    "    # Extract attributes of the first song\n",
    "    key1 = extract_key(audio_path1)\n",
    "    tempo1 = extract_tempo(audio_path1)\n",
    "    \n",
    "    # Extract attributes of the second song\n",
    "    key2 = extract_key(audio_path2)\n",
    "    tempo2 = extract_tempo(audio_path2)\n",
    "    \n",
    "    # Compare the keys and tempos of the songs\n",
    "    key_matched = compare_keys(key1, key2)\n",
    "    tempo_matched = compare_tempos(tempo1, tempo2)\n",
    "    \n",
    "    # Determine if the tunes are matched based on the comparisons\n",
    "    if key_matched and tempo_matched:\n",
    "        return True\n",
    "    else:\n",
    "        return False\n",
    "\n",
    "# Example usage\n",
    "audio_path1 = r\"C:\\Users\\NaliniGarikipati\\OneDrive - Hanyaa\\Desktop\\Audio_Dataset\\Hit songs\\Chiru Chiru Chiru.mp3\"\n",
    "audio_path2 = r\"C:\\Users\\NaliniGarikipati\\OneDrive - Hanyaa\\Desktop\\Audio_Dataset\\Hit songs\\Chilipiga.mp3\"\n",
    "\n",
    "if match_tune(audio_path1, audio_path2):\n",
    "    print(\"The tunes are matched.\")\n",
    "else:\n",
    "    print(\"The tunes are not matched.\")\n"
   ]
  }
 ],
 "metadata": {
  "language_info": {
   "name": "python"
  }
 },
 "nbformat": 4,
 "nbformat_minor": 2
}
